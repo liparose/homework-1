{
 "cells": [
  {
   "attachments": {},
   "cell_type": "markdown",
   "metadata": {},
   "source": [
    "# Twitter\n",
    "\n",
    "---\n",
    "\n",
    "Group name: C\n",
    "\n",
    "---\n"
   ]
  },
  {
   "attachments": {},
   "cell_type": "markdown",
   "metadata": {},
   "source": [
    "Obtain twitter data from the company you chose in task 1 ([fivethirtyeight](https://twitter.com/FiveThirtyEight?s=20&t=o3WKC-6LHs_6obZVA-Ohig), [cnn](https://twitter.com/cnnbrk?s=20&t=GZGKxWkunn0cuWyKeSf95g) or [wired](https://twitter.com/WIRED?s=20&t=UtBPw_gr9Yj02w3prUB8xA))\n",
    "\n",
    "Save the data as CSV (call it `twitter.csv`) in `data/raw`."
   ]
  },
  {
   "cell_type": "code",
   "execution_count": 1,
   "metadata": {},
   "outputs": [],
   "source": [
    "#IMPORTS\n",
    "\n",
    "# Importieren der benötigten Bibliotheken\n",
    "import tweepy\n",
    "import requests\n",
    "import pandas as pd\n",
    "\n",
    "# API Zugriffsschlüssel importieren\n",
    "from keys import *"
   ]
  },
  {
   "cell_type": "code",
   "execution_count": 2,
   "metadata": {},
   "outputs": [],
   "source": [
    "# Client-Objekt zur Interaktion mit der Twitter API\n",
    "\n",
    "client = tweepy.Client( bearer_token=bearer_token, \n",
    "                        consumer_key=consumer_key, \n",
    "                        consumer_secret=consumer_secret, \n",
    "                        access_token=access_token, \n",
    "                        access_token_secret=access_token_secret, \n",
    "                        return_type = requests.Response,\n",
    "                        wait_on_rate_limit=True)"
   ]
  },
  {
   "cell_type": "code",
   "execution_count": 3,
   "metadata": {},
   "outputs": [],
   "source": [
    "# Anfrage festlegen (welcher Account)\n",
    "my_query = 'from:CNN -is:retweet'\n",
    "\n",
    "# Nach aktuellen Tweets suchen (max. 100)\n",
    "tweets = client.search_recent_tweets(query=my_query, \n",
    "                                    tweet_fields=['author_id', 'created_at'],\n",
    "                                     max_results=100)"
   ]
  },
  {
   "cell_type": "code",
   "execution_count": 4,
   "metadata": {},
   "outputs": [],
   "source": [
    "# Daten als dictionary speichern\n",
    "tweets_dict = tweets.json() \n",
    "\n",
    "# Extrahieren von \"Daten\" werten aus dem dictionary\n",
    "tweets_data = tweets_dict['data'] \n",
    "\n",
    "# In pandas Dataframe umwandeln\n",
    "df = pd.json_normalize(tweets_data) "
   ]
  },
  {
   "cell_type": "code",
   "execution_count": 5,
   "metadata": {},
   "outputs": [],
   "source": [
    "# Als csv abspeichern\n",
    "\n",
    "df.to_csv(\"twitter.csv\")"
   ]
  }
 ],
 "metadata": {
  "kernelspec": {
   "display_name": "myenv",
   "language": "python",
   "name": "python3"
  },
  "language_info": {
   "codemirror_mode": {
    "name": "ipython",
    "version": 3
   },
   "file_extension": ".py",
   "mimetype": "text/x-python",
   "name": "python",
   "nbconvert_exporter": "python",
   "pygments_lexer": "ipython3",
   "version": "3.9.13"
  },
  "orig_nbformat": 4,
  "vscode": {
   "interpreter": {
    "hash": "e15ac9eba63a5c09141544704f57ff910d35b346b5f59427653c91541004419a"
   }
  }
 },
 "nbformat": 4,
 "nbformat_minor": 2
}
